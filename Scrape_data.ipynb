{
  "nbformat": 4,
  "nbformat_minor": 0,
  "metadata": {
    "colab": {
      "provenance": [],
      "authorship_tag": "ABX9TyMqmK7Yx9h+q2EjEMDXzWgB",
      "include_colab_link": true
    },
    "kernelspec": {
      "name": "python3",
      "display_name": "Python 3"
    },
    "language_info": {
      "name": "python"
    }
  },
  "cells": [
    {
      "cell_type": "markdown",
      "metadata": {
        "id": "view-in-github",
        "colab_type": "text"
      },
      "source": [
        "<a href=\"https://colab.research.google.com/github/Cchrisekwugum/sqlite3_and_python_projects/blob/main/Scrape_data.ipynb\" target=\"_parent\"><img src=\"https://colab.research.google.com/assets/colab-badge.svg\" alt=\"Open In Colab\"/></a>"
      ]
    },
    {
      "cell_type": "markdown",
      "source": [
        "## Lets scrape from data from a website"
      ],
      "metadata": {
        "id": "JZtCwYNKQ3sm"
      }
    },
    {
      "cell_type": "markdown",
      "source": [
        "The Department of Forestry and Fire Protection, California"
      ],
      "metadata": {
        "id": "YM1-ZvMsTCrF"
      }
    },
    {
      "cell_type": "code",
      "execution_count": null,
      "metadata": {
        "colab": {
          "base_uri": "https://localhost:8080/"
        },
        "id": "S5qBoLCKPsAc",
        "outputId": "2f0b4950-e695-45ab-a231-f81bfe764c43"
      },
      "outputs": [
        {
          "output_type": "stream",
          "name": "stdout",
          "text": [
            "/content\n"
          ]
        }
      ],
      "source": [
        "# import required libraries\n",
        "import json  # parse json data from API response\n",
        "import sqlite3  # interact with SQlite database\n",
        "import urllib.request\n",
        "import pandas as pd\n",
        "import os\n",
        "print(os.getcwd())"
      ]
    },
    {
      "cell_type": "code",
      "source": [
        "url = \"https://www.fire.ca.gov/api/sitecore/Incident/GetFiresForMap?showFeatured=false\"\n",
        "headers = {\"User-Agent\": \"Cafirehistorydb (chrisony4@gmail.com)\"} # user agent identification"
      ],
      "metadata": {
        "id": "RplYoeCbQrVS"
      },
      "execution_count": null,
      "outputs": []
    },
    {
      "cell_type": "code",
      "source": [
        "# lets fetch the data...creeate an http request the url and header above\n",
        "print(\"Fetching data from API...\")\n",
        "req = urllib.request.Request(url,headers = headers)\n",
        "with urllib.request.urlopen(req) as response: # opens a connection to the API\n",
        "    json_data = json.loads(response.read().decode(\"utf-8\")) # read the response as jason data"
      ],
      "metadata": {
        "colab": {
          "base_uri": "https://localhost:8080/"
        },
        "id": "xGPw1_kMQrSO",
        "outputId": "4d779e91-4fd9-425c-8cf5-a8cf3c9ac408"
      },
      "execution_count": null,
      "outputs": [
        {
          "output_type": "stream",
          "name": "stdout",
          "text": [
            "Fetching data from API...\n"
          ]
        }
      ]
    },
    {
      "cell_type": "code",
      "source": [
        "#data = json.loads(json_data)\n",
        "print(f\"Received data for {len(json_data)} fire incidents\")"
      ],
      "metadata": {
        "colab": {
          "base_uri": "https://localhost:8080/"
        },
        "id": "GHyccCzwQrPu",
        "outputId": "1e09269e-1e2d-4440-f8de-7d111962f6e7"
      },
      "execution_count": null,
      "outputs": [
        {
          "output_type": "stream",
          "name": "stdout",
          "text": [
            "Received data for 23 fire incidents\n"
          ]
        }
      ]
    },
    {
      "cell_type": "code",
      "source": [
        "# check to see if the data has been fetched\n",
        "json_data[21:]"
      ],
      "metadata": {
        "colab": {
          "base_uri": "https://localhost:8080/"
        },
        "id": "KZza0gxoQrNV",
        "outputId": "f64eb621-0f96-4562-83b7-309746256c2d"
      },
      "execution_count": null,
      "outputs": [
        {
          "output_type": "execute_result",
          "data": {
            "text/plain": [
              "[{'Name': 'Quality Fire',\n",
              "  'Updated': '2024-07-14',\n",
              "  'Started': '2024-07-13',\n",
              "  'AdminUnit': 'CAL FIRE San Bernardino Unit',\n",
              "  'County': 'Inyo',\n",
              "  'Location': 'Lone Pine Golf Course Road and Main Street',\n",
              "  'AcresBurned': 51.0,\n",
              "  'PercentContained': 50.0,\n",
              "  'Longitude': -118.057587,\n",
              "  'Latitude': 36.576457,\n",
              "  'Type': None,\n",
              "  'UniqueId': '8ff00a3e-f9a6-4c09-8aa0-5549f351312f',\n",
              "  'Url': '/incidents/2024/7/13/quality-fire/',\n",
              "  'StartedDateOnly': None,\n",
              "  'IsActive': True,\n",
              "  'ExternalUrl': ''},\n",
              " {'Name': 'Mcnab Fire',\n",
              "  'Updated': '2024-07-14',\n",
              "  'Started': '2024-07-14',\n",
              "  'AdminUnit': 'CAL FIRE Mendocino Unit',\n",
              "  'County': 'Mendocino',\n",
              "  'Location': '800 Block of McNab Ranch Road, Ukiah',\n",
              "  'AcresBurned': 10.0,\n",
              "  'PercentContained': 0.0,\n",
              "  'Longitude': -123.15297,\n",
              "  'Latitude': 39.041985,\n",
              "  'Type': None,\n",
              "  'UniqueId': '085e88f6-33b7-4aef-adea-cda9dc7ef7f4',\n",
              "  'Url': '/incidents/2024/7/14/mcnab-fire/',\n",
              "  'StartedDateOnly': None,\n",
              "  'IsActive': True,\n",
              "  'ExternalUrl': ''}]"
            ]
          },
          "metadata": {},
          "execution_count": 99
        }
      ]
    },
    {
      "cell_type": "code",
      "source": [
        "# lets create a connection with SQLite database and create a database\n",
        "# the script below is an SQL script for creating data tables and column names\n",
        "with sqlite3.connect(\"cafires.db\") as db:\n",
        "    cursor = db.cursor()\n",
        "    cursor.execute(\"\"\"\n",
        "    CREATE TABLE IF NOT EXISTS incidents (\n",
        "        UniqueId TEXT PRIMARY KEY,\n",
        "        Name TEXT,\n",
        "        Updated TEXT,\n",
        "        Started TEXT,\n",
        "        AdminUnit TEXT,\n",
        "        County TEXT,\n",
        "        Location TEXT,\n",
        "        AcresBurned REAL,\n",
        "        PercentContained REAL,\n",
        "        Longitude REAL,\n",
        "        Latitude REAL,\n",
        "        Url TEXT,\n",
        "        IsActive INTEGER\n",
        "    )\n",
        "    \"\"\")\n"
      ],
      "metadata": {
        "id": "Y3PkpFmYQrKA"
      },
      "execution_count": null,
      "outputs": []
    },
    {
      "cell_type": "code",
      "source": [
        "# I will intialize a counter here and updates the records(or values as it is called in pandas)\n",
        "new_update_count = 0\n",
        "for item in json_data:\n",
        "  cursor.execute(\"\"\"\n",
        "                 INSERT OR REPLACE INTO incidents (\n",
        "                     UniqueId,Name, Updated,Started,AdminUnit,County,Location,AcresBurned,PercentContained,Longitude,Latitude,Url,IsActive\n",
        "                 ) VALUES (?,?,?,?,?,?,?,?,?,?,?,?,?)\n",
        "                 \"\"\",\n",
        "                  (\n",
        "            item[\"UniqueId\"],\n",
        "            item[\"Name\"],\n",
        "            item[\"Updated\"],\n",
        "            item[\"Started\"],\n",
        "            item[\"AdminUnit\"],\n",
        "            item[\"County\"],\n",
        "            item[\"Location\"],\n",
        "            item[\"AcresBurned\"],\n",
        "            item[\"PercentContained\"],\n",
        "            item[\"Longitude\"],\n",
        "            item[\"Latitude\"],\n",
        "            item[\"Url\"],\n",
        "            1 if item[\"IsActive\"] else 0,\n",
        "        ),\n",
        "          )\n",
        "  if cursor.rowcount > 0:\n",
        "        new_update_count +=  cursor.rowcount\n",
        "        db.commit()  # Commit changes to the database\n",
        "\n",
        "        print(f\"Inserted or updated: {item['Name']} (ID: {item['UniqueId']})\")\n",
        "\n",
        "print(f\"Total rows inserted or updated: {new_update_count}\")\n",
        "print(\"Operation completed...\")\n"
      ],
      "metadata": {
        "colab": {
          "base_uri": "https://localhost:8080/"
        },
        "id": "sdZbQDjueJNm",
        "outputId": "cc368900-662b-4f6b-94c1-c149e7d7f27c"
      },
      "execution_count": null,
      "outputs": [
        {
          "output_type": "stream",
          "name": "stdout",
          "text": [
            "Inserted or updated: Basin Fire (ID: 9226f0ee-ae1d-4ca7-8a21-9390b6215c85)\n",
            "Inserted or updated: Sheering Fire (ID: 4d1eb95c-6e27-4af4-9133-d053b8310cbd)\n",
            "Inserted or updated: Shelly Fire (ID: 798bb0b3-8d70-4d9c-a0b6-094c9013a4da)\n",
            "Inserted or updated: Lake Fire (ID: bc6db02b-254b-4857-9bd9-2ec52580960e)\n",
            "Inserted or updated: Vista Fire (ID: 3a6eccd0-40fa-4d68-97fa-e38f93f0458c)\n",
            "Inserted or updated: North Fire (ID: f2edef16-123c-47df-8cfb-5822aaa4e6eb)\n",
            "Inserted or updated: Royal Fire (ID: fb03fcdb-e84c-4edd-8457-126b805119f2)\n",
            "Inserted or updated: Mina Fire (ID: d08b8b6b-585b-40c2-9b40-99ec5adf5513)\n",
            "Inserted or updated: Bogus Fire (ID: 1d2f4147-5768-4f7a-b777-42f72c9d75b4)\n",
            "Inserted or updated: Cow Fire (ID: 704f4c46-c67f-4cd6-ad76-1bb893764f0e)\n",
            "Inserted or updated: Point Fire (ID: fdb9b539-dbfe-4112-98b3-ce893d831e9e)\n",
            "Inserted or updated: Pauba Fire (ID: 6ba3ef43-a6ad-486d-8df8-ec24dfdcbfff)\n",
            "Inserted or updated: Hurricane Fire (ID: 5d90917c-38cf-4ea9-86d6-e3a1d2728b0a)\n",
            "Inserted or updated: Soda Fire (ID: 597e7925-6013-4b71-a67a-ddaeec31b92a)\n",
            "Inserted or updated: White Fire (ID: 277af290-74fa-4b77-9f74-58b232a4f098)\n",
            "Inserted or updated: Trout Fire (ID: bddf75c9-e5b6-4b7c-af80-a9f1dd57963b)\n",
            "Inserted or updated: Minor Fire (ID: 5c4423ff-da1b-4b58-a72b-1fbeb4522da9)\n",
            "Inserted or updated: Rancho Fire (ID: 6092d73f-828a-4218-b723-0449fb456861)\n",
            "Inserted or updated: Packsaddle Fire (ID: 61215509-76e2-409a-b3df-71cb588e3387)\n",
            "Inserted or updated: Horse Fire (Previously 3-7) (ID: 5f6960bc-d915-41c0-8cf0-0a3b7f0af755)\n",
            "Inserted or updated: Rim Fire (ID: 0c244aa0-4712-4a7c-93d6-42607825a950)\n",
            "Inserted or updated: Quality Fire (ID: 8ff00a3e-f9a6-4c09-8aa0-5549f351312f)\n",
            "Inserted or updated: Mcnab Fire (ID: 085e88f6-33b7-4aef-adea-cda9dc7ef7f4)\n",
            "Total rows inserted or updated: 23\n",
            "Operation completed...\n"
          ]
        }
      ]
    },
    {
      "cell_type": "code",
      "source": [
        "conn = sqlite3.connect('cafires.db')\n",
        "df = pd.read_sql_query(\"SELECT * FROM incidents\", conn)\n",
        "conn.close()"
      ],
      "metadata": {
        "id": "TDpeiH7nQrEw"
      },
      "execution_count": null,
      "outputs": []
    },
    {
      "cell_type": "code",
      "source": [
        "df.head(2)"
      ],
      "metadata": {
        "colab": {
          "base_uri": "https://localhost:8080/",
          "height": 254
        },
        "id": "4h5wMY9MQrB0",
        "outputId": "6cb51dfe-f805-47ec-ef8f-21ac4a256dd7"
      },
      "execution_count": null,
      "outputs": [
        {
          "output_type": "execute_result",
          "data": {
            "text/plain": [
              "                               UniqueId           Name     Updated  \\\n",
              "0  9226f0ee-ae1d-4ca7-8a21-9390b6215c85     Basin Fire  2024-07-11   \n",
              "1  4d1eb95c-6e27-4af4-9133-d053b8310cbd  Sheering Fire  2024-07-10   \n",
              "\n",
              "      Started                       AdminUnit    County  \\\n",
              "0  2024-06-26  Sierra National Forest Service    Fresno   \n",
              "1  2024-06-24      Stanislaus National Forest  Tuolumne   \n",
              "\n",
              "                                       Location  AcresBurned  \\\n",
              "0          North of Green Cabin Flat Campground      14023.0   \n",
              "1  East of Bourland Creek & North of Lost Creek        528.0   \n",
              "\n",
              "   PercentContained   Longitude   Latitude  \\\n",
              "0              95.0 -119.110336  36.868064   \n",
              "1              89.0 -119.985167  38.163167   \n",
              "\n",
              "                                   Url  IsActive  \n",
              "0     /incidents/2024/6/26/basin-fire/         1  \n",
              "1  /incidents/2024/6/24/sheering-fire/         1  "
            ],
            "text/html": [
              "\n",
              "  <div id=\"df-4e564f75-3dfd-4ddb-9f10-66357952b28f\" class=\"colab-df-container\">\n",
              "    <div>\n",
              "<style scoped>\n",
              "    .dataframe tbody tr th:only-of-type {\n",
              "        vertical-align: middle;\n",
              "    }\n",
              "\n",
              "    .dataframe tbody tr th {\n",
              "        vertical-align: top;\n",
              "    }\n",
              "\n",
              "    .dataframe thead th {\n",
              "        text-align: right;\n",
              "    }\n",
              "</style>\n",
              "<table border=\"1\" class=\"dataframe\">\n",
              "  <thead>\n",
              "    <tr style=\"text-align: right;\">\n",
              "      <th></th>\n",
              "      <th>UniqueId</th>\n",
              "      <th>Name</th>\n",
              "      <th>Updated</th>\n",
              "      <th>Started</th>\n",
              "      <th>AdminUnit</th>\n",
              "      <th>County</th>\n",
              "      <th>Location</th>\n",
              "      <th>AcresBurned</th>\n",
              "      <th>PercentContained</th>\n",
              "      <th>Longitude</th>\n",
              "      <th>Latitude</th>\n",
              "      <th>Url</th>\n",
              "      <th>IsActive</th>\n",
              "    </tr>\n",
              "  </thead>\n",
              "  <tbody>\n",
              "    <tr>\n",
              "      <th>0</th>\n",
              "      <td>9226f0ee-ae1d-4ca7-8a21-9390b6215c85</td>\n",
              "      <td>Basin Fire</td>\n",
              "      <td>2024-07-11</td>\n",
              "      <td>2024-06-26</td>\n",
              "      <td>Sierra National Forest Service</td>\n",
              "      <td>Fresno</td>\n",
              "      <td>North of Green Cabin Flat Campground</td>\n",
              "      <td>14023.0</td>\n",
              "      <td>95.0</td>\n",
              "      <td>-119.110336</td>\n",
              "      <td>36.868064</td>\n",
              "      <td>/incidents/2024/6/26/basin-fire/</td>\n",
              "      <td>1</td>\n",
              "    </tr>\n",
              "    <tr>\n",
              "      <th>1</th>\n",
              "      <td>4d1eb95c-6e27-4af4-9133-d053b8310cbd</td>\n",
              "      <td>Sheering Fire</td>\n",
              "      <td>2024-07-10</td>\n",
              "      <td>2024-06-24</td>\n",
              "      <td>Stanislaus National Forest</td>\n",
              "      <td>Tuolumne</td>\n",
              "      <td>East of Bourland Creek &amp; North of Lost Creek</td>\n",
              "      <td>528.0</td>\n",
              "      <td>89.0</td>\n",
              "      <td>-119.985167</td>\n",
              "      <td>38.163167</td>\n",
              "      <td>/incidents/2024/6/24/sheering-fire/</td>\n",
              "      <td>1</td>\n",
              "    </tr>\n",
              "  </tbody>\n",
              "</table>\n",
              "</div>\n",
              "    <div class=\"colab-df-buttons\">\n",
              "\n",
              "  <div class=\"colab-df-container\">\n",
              "    <button class=\"colab-df-convert\" onclick=\"convertToInteractive('df-4e564f75-3dfd-4ddb-9f10-66357952b28f')\"\n",
              "            title=\"Convert this dataframe to an interactive table.\"\n",
              "            style=\"display:none;\">\n",
              "\n",
              "  <svg xmlns=\"http://www.w3.org/2000/svg\" height=\"24px\" viewBox=\"0 -960 960 960\">\n",
              "    <path d=\"M120-120v-720h720v720H120Zm60-500h600v-160H180v160Zm220 220h160v-160H400v160Zm0 220h160v-160H400v160ZM180-400h160v-160H180v160Zm440 0h160v-160H620v160ZM180-180h160v-160H180v160Zm440 0h160v-160H620v160Z\"/>\n",
              "  </svg>\n",
              "    </button>\n",
              "\n",
              "  <style>\n",
              "    .colab-df-container {\n",
              "      display:flex;\n",
              "      gap: 12px;\n",
              "    }\n",
              "\n",
              "    .colab-df-convert {\n",
              "      background-color: #E8F0FE;\n",
              "      border: none;\n",
              "      border-radius: 50%;\n",
              "      cursor: pointer;\n",
              "      display: none;\n",
              "      fill: #1967D2;\n",
              "      height: 32px;\n",
              "      padding: 0 0 0 0;\n",
              "      width: 32px;\n",
              "    }\n",
              "\n",
              "    .colab-df-convert:hover {\n",
              "      background-color: #E2EBFA;\n",
              "      box-shadow: 0px 1px 2px rgba(60, 64, 67, 0.3), 0px 1px 3px 1px rgba(60, 64, 67, 0.15);\n",
              "      fill: #174EA6;\n",
              "    }\n",
              "\n",
              "    .colab-df-buttons div {\n",
              "      margin-bottom: 4px;\n",
              "    }\n",
              "\n",
              "    [theme=dark] .colab-df-convert {\n",
              "      background-color: #3B4455;\n",
              "      fill: #D2E3FC;\n",
              "    }\n",
              "\n",
              "    [theme=dark] .colab-df-convert:hover {\n",
              "      background-color: #434B5C;\n",
              "      box-shadow: 0px 1px 3px 1px rgba(0, 0, 0, 0.15);\n",
              "      filter: drop-shadow(0px 1px 2px rgba(0, 0, 0, 0.3));\n",
              "      fill: #FFFFFF;\n",
              "    }\n",
              "  </style>\n",
              "\n",
              "    <script>\n",
              "      const buttonEl =\n",
              "        document.querySelector('#df-4e564f75-3dfd-4ddb-9f10-66357952b28f button.colab-df-convert');\n",
              "      buttonEl.style.display =\n",
              "        google.colab.kernel.accessAllowed ? 'block' : 'none';\n",
              "\n",
              "      async function convertToInteractive(key) {\n",
              "        const element = document.querySelector('#df-4e564f75-3dfd-4ddb-9f10-66357952b28f');\n",
              "        const dataTable =\n",
              "          await google.colab.kernel.invokeFunction('convertToInteractive',\n",
              "                                                    [key], {});\n",
              "        if (!dataTable) return;\n",
              "\n",
              "        const docLinkHtml = 'Like what you see? Visit the ' +\n",
              "          '<a target=\"_blank\" href=https://colab.research.google.com/notebooks/data_table.ipynb>data table notebook</a>'\n",
              "          + ' to learn more about interactive tables.';\n",
              "        element.innerHTML = '';\n",
              "        dataTable['output_type'] = 'display_data';\n",
              "        await google.colab.output.renderOutput(dataTable, element);\n",
              "        const docLink = document.createElement('div');\n",
              "        docLink.innerHTML = docLinkHtml;\n",
              "        element.appendChild(docLink);\n",
              "      }\n",
              "    </script>\n",
              "  </div>\n",
              "\n",
              "\n",
              "<div id=\"df-02dceff0-a0b4-48be-974b-02c4eb7e73b5\">\n",
              "  <button class=\"colab-df-quickchart\" onclick=\"quickchart('df-02dceff0-a0b4-48be-974b-02c4eb7e73b5')\"\n",
              "            title=\"Suggest charts\"\n",
              "            style=\"display:none;\">\n",
              "\n",
              "<svg xmlns=\"http://www.w3.org/2000/svg\" height=\"24px\"viewBox=\"0 0 24 24\"\n",
              "     width=\"24px\">\n",
              "    <g>\n",
              "        <path d=\"M19 3H5c-1.1 0-2 .9-2 2v14c0 1.1.9 2 2 2h14c1.1 0 2-.9 2-2V5c0-1.1-.9-2-2-2zM9 17H7v-7h2v7zm4 0h-2V7h2v10zm4 0h-2v-4h2v4z\"/>\n",
              "    </g>\n",
              "</svg>\n",
              "  </button>\n",
              "\n",
              "<style>\n",
              "  .colab-df-quickchart {\n",
              "      --bg-color: #E8F0FE;\n",
              "      --fill-color: #1967D2;\n",
              "      --hover-bg-color: #E2EBFA;\n",
              "      --hover-fill-color: #174EA6;\n",
              "      --disabled-fill-color: #AAA;\n",
              "      --disabled-bg-color: #DDD;\n",
              "  }\n",
              "\n",
              "  [theme=dark] .colab-df-quickchart {\n",
              "      --bg-color: #3B4455;\n",
              "      --fill-color: #D2E3FC;\n",
              "      --hover-bg-color: #434B5C;\n",
              "      --hover-fill-color: #FFFFFF;\n",
              "      --disabled-bg-color: #3B4455;\n",
              "      --disabled-fill-color: #666;\n",
              "  }\n",
              "\n",
              "  .colab-df-quickchart {\n",
              "    background-color: var(--bg-color);\n",
              "    border: none;\n",
              "    border-radius: 50%;\n",
              "    cursor: pointer;\n",
              "    display: none;\n",
              "    fill: var(--fill-color);\n",
              "    height: 32px;\n",
              "    padding: 0;\n",
              "    width: 32px;\n",
              "  }\n",
              "\n",
              "  .colab-df-quickchart:hover {\n",
              "    background-color: var(--hover-bg-color);\n",
              "    box-shadow: 0 1px 2px rgba(60, 64, 67, 0.3), 0 1px 3px 1px rgba(60, 64, 67, 0.15);\n",
              "    fill: var(--button-hover-fill-color);\n",
              "  }\n",
              "\n",
              "  .colab-df-quickchart-complete:disabled,\n",
              "  .colab-df-quickchart-complete:disabled:hover {\n",
              "    background-color: var(--disabled-bg-color);\n",
              "    fill: var(--disabled-fill-color);\n",
              "    box-shadow: none;\n",
              "  }\n",
              "\n",
              "  .colab-df-spinner {\n",
              "    border: 2px solid var(--fill-color);\n",
              "    border-color: transparent;\n",
              "    border-bottom-color: var(--fill-color);\n",
              "    animation:\n",
              "      spin 1s steps(1) infinite;\n",
              "  }\n",
              "\n",
              "  @keyframes spin {\n",
              "    0% {\n",
              "      border-color: transparent;\n",
              "      border-bottom-color: var(--fill-color);\n",
              "      border-left-color: var(--fill-color);\n",
              "    }\n",
              "    20% {\n",
              "      border-color: transparent;\n",
              "      border-left-color: var(--fill-color);\n",
              "      border-top-color: var(--fill-color);\n",
              "    }\n",
              "    30% {\n",
              "      border-color: transparent;\n",
              "      border-left-color: var(--fill-color);\n",
              "      border-top-color: var(--fill-color);\n",
              "      border-right-color: var(--fill-color);\n",
              "    }\n",
              "    40% {\n",
              "      border-color: transparent;\n",
              "      border-right-color: var(--fill-color);\n",
              "      border-top-color: var(--fill-color);\n",
              "    }\n",
              "    60% {\n",
              "      border-color: transparent;\n",
              "      border-right-color: var(--fill-color);\n",
              "    }\n",
              "    80% {\n",
              "      border-color: transparent;\n",
              "      border-right-color: var(--fill-color);\n",
              "      border-bottom-color: var(--fill-color);\n",
              "    }\n",
              "    90% {\n",
              "      border-color: transparent;\n",
              "      border-bottom-color: var(--fill-color);\n",
              "    }\n",
              "  }\n",
              "</style>\n",
              "\n",
              "  <script>\n",
              "    async function quickchart(key) {\n",
              "      const quickchartButtonEl =\n",
              "        document.querySelector('#' + key + ' button');\n",
              "      quickchartButtonEl.disabled = true;  // To prevent multiple clicks.\n",
              "      quickchartButtonEl.classList.add('colab-df-spinner');\n",
              "      try {\n",
              "        const charts = await google.colab.kernel.invokeFunction(\n",
              "            'suggestCharts', [key], {});\n",
              "      } catch (error) {\n",
              "        console.error('Error during call to suggestCharts:', error);\n",
              "      }\n",
              "      quickchartButtonEl.classList.remove('colab-df-spinner');\n",
              "      quickchartButtonEl.classList.add('colab-df-quickchart-complete');\n",
              "    }\n",
              "    (() => {\n",
              "      let quickchartButtonEl =\n",
              "        document.querySelector('#df-02dceff0-a0b4-48be-974b-02c4eb7e73b5 button');\n",
              "      quickchartButtonEl.style.display =\n",
              "        google.colab.kernel.accessAllowed ? 'block' : 'none';\n",
              "    })();\n",
              "  </script>\n",
              "</div>\n",
              "\n",
              "    </div>\n",
              "  </div>\n"
            ],
            "application/vnd.google.colaboratory.intrinsic+json": {
              "type": "dataframe",
              "variable_name": "df",
              "summary": "{\n  \"name\": \"df\",\n  \"rows\": 23,\n  \"fields\": [\n    {\n      \"column\": \"UniqueId\",\n      \"properties\": {\n        \"dtype\": \"string\",\n        \"num_unique_values\": 23,\n        \"samples\": [\n          \"bddf75c9-e5b6-4b7c-af80-a9f1dd57963b\",\n          \"704f4c46-c67f-4cd6-ad76-1bb893764f0e\",\n          \"9226f0ee-ae1d-4ca7-8a21-9390b6215c85\"\n        ],\n        \"semantic_type\": \"\",\n        \"description\": \"\"\n      }\n    },\n    {\n      \"column\": \"Name\",\n      \"properties\": {\n        \"dtype\": \"string\",\n        \"num_unique_values\": 23,\n        \"samples\": [\n          \"Trout Fire\",\n          \"Cow Fire\",\n          \"Basin Fire\"\n        ],\n        \"semantic_type\": \"\",\n        \"description\": \"\"\n      }\n    },\n    {\n      \"column\": \"Updated\",\n      \"properties\": {\n        \"dtype\": \"object\",\n        \"num_unique_values\": 4,\n        \"samples\": [\n          \"2024-07-10\",\n          \"2024-07-13\",\n          \"2024-07-11\"\n        ],\n        \"semantic_type\": \"\",\n        \"description\": \"\"\n      }\n    },\n    {\n      \"column\": \"Started\",\n      \"properties\": {\n        \"dtype\": \"object\",\n        \"num_unique_values\": 11,\n        \"samples\": [\n          \"2024-07-08\",\n          \"2024-06-26\",\n          \"2024-07-13\"\n        ],\n        \"semantic_type\": \"\",\n        \"description\": \"\"\n      }\n    },\n    {\n      \"column\": \"AdminUnit\",\n      \"properties\": {\n        \"dtype\": \"string\",\n        \"num_unique_values\": 19,\n        \"samples\": [\n          \"Sierra National Forest Service\",\n          \"Bureau of Land Management - Northern California District\",\n          \"CAL FIRE/Riverside County Fire Department\"\n        ],\n        \"semantic_type\": \"\",\n        \"description\": \"\"\n      }\n    },\n    {\n      \"column\": \"County\",\n      \"properties\": {\n        \"dtype\": \"string\",\n        \"num_unique_values\": 16,\n        \"samples\": [\n          \"Fresno\",\n          \"Tuolumne\",\n          \"Modoc\"\n        ],\n        \"semantic_type\": \"\",\n        \"description\": \"\"\n      }\n    },\n    {\n      \"column\": \"Location\",\n      \"properties\": {\n        \"dtype\": \"string\",\n        \"num_unique_values\": 23,\n        \"samples\": [\n          \"Near Sherman Pass Road\",\n          \"Unknown / TBD\",\n          \"North of Green Cabin Flat Campground\"\n        ],\n        \"semantic_type\": \"\",\n        \"description\": \"\"\n      }\n    },\n    {\n      \"column\": \"AcresBurned\",\n      \"properties\": {\n        \"dtype\": \"number\",\n        \"std\": 9147.328610829825,\n        \"min\": 10.0,\n        \"max\": 37872.0,\n        \"num_unique_values\": 23,\n        \"samples\": [\n          494.0,\n          509.0,\n          14023.0\n        ],\n        \"semantic_type\": \"\",\n        \"description\": \"\"\n      }\n    },\n    {\n      \"column\": \"PercentContained\",\n      \"properties\": {\n        \"dtype\": \"number\",\n        \"std\": 38.74156799755388,\n        \"min\": 0.0,\n        \"max\": 100.0,\n        \"num_unique_values\": 14,\n        \"samples\": [\n          100.0,\n          50.0,\n          95.0\n        ],\n        \"semantic_type\": \"\",\n        \"description\": \"\"\n      }\n    },\n    {\n      \"column\": \"Longitude\",\n      \"properties\": {\n        \"dtype\": \"number\",\n        \"std\": 1.9867208172605315,\n        \"min\": -123.7729,\n        \"max\": -117.021732828451,\n        \"num_unique_values\": 23,\n        \"samples\": [\n          -118.311422,\n          -118.801528,\n          -119.110336\n        ],\n        \"semantic_type\": \"\",\n        \"description\": \"\"\n      }\n    },\n    {\n      \"column\": \"Latitude\",\n      \"properties\": {\n        \"dtype\": \"number\",\n        \"std\": 2.7355831881371127,\n        \"min\": 33.4855572742634,\n        \"max\": 41.884429,\n        \"num_unique_values\": 23,\n        \"samples\": [\n          35.986772,\n          36.026333,\n          36.868064\n        ],\n        \"semantic_type\": \"\",\n        \"description\": \"\"\n      }\n    },\n    {\n      \"column\": \"Url\",\n      \"properties\": {\n        \"dtype\": \"string\",\n        \"num_unique_values\": 23,\n        \"samples\": [\n          \"/incidents/2024/7/13/trout-fire/\",\n          \"/incidents/2024/7/9/cow-fire/\",\n          \"/incidents/2024/6/26/basin-fire/\"\n        ],\n        \"semantic_type\": \"\",\n        \"description\": \"\"\n      }\n    },\n    {\n      \"column\": \"IsActive\",\n      \"properties\": {\n        \"dtype\": \"number\",\n        \"std\": 0,\n        \"min\": 1,\n        \"max\": 1,\n        \"num_unique_values\": 1,\n        \"samples\": [\n          1\n        ],\n        \"semantic_type\": \"\",\n        \"description\": \"\"\n      }\n    }\n  ]\n}"
            }
          },
          "metadata": {},
          "execution_count": 103
        }
      ]
    },
    {
      "cell_type": "code",
      "source": [
        "# save the sql_query to csv file\n",
        "df.to_csv('cafires.csv',index = False)"
      ],
      "metadata": {
        "id": "ak7dBOZuQq-0"
      },
      "execution_count": null,
      "outputs": []
    },
    {
      "cell_type": "code",
      "source": [
        "# import it back as a csv file\n",
        "df = pd.read_csv('cafires.csv')"
      ],
      "metadata": {
        "id": "WU4xXIVMQq7E"
      },
      "execution_count": null,
      "outputs": []
    },
    {
      "cell_type": "code",
      "source": [
        "df.head(2)"
      ],
      "metadata": {
        "colab": {
          "base_uri": "https://localhost:8080/",
          "height": 254
        },
        "id": "OrZoH1vPQq3s",
        "outputId": "3f4eb6cc-8af9-41d6-e3d7-d82913494de5"
      },
      "execution_count": null,
      "outputs": [
        {
          "output_type": "execute_result",
          "data": {
            "text/plain": [
              "                               UniqueId           Name     Updated  \\\n",
              "0  9226f0ee-ae1d-4ca7-8a21-9390b6215c85     Basin Fire  2024-07-11   \n",
              "1  4d1eb95c-6e27-4af4-9133-d053b8310cbd  Sheering Fire  2024-07-10   \n",
              "\n",
              "      Started                       AdminUnit    County  \\\n",
              "0  2024-06-26  Sierra National Forest Service    Fresno   \n",
              "1  2024-06-24      Stanislaus National Forest  Tuolumne   \n",
              "\n",
              "                                       Location  AcresBurned  \\\n",
              "0          North of Green Cabin Flat Campground      14023.0   \n",
              "1  East of Bourland Creek & North of Lost Creek        528.0   \n",
              "\n",
              "   PercentContained   Longitude   Latitude  \\\n",
              "0              95.0 -119.110336  36.868064   \n",
              "1              89.0 -119.985167  38.163167   \n",
              "\n",
              "                                   Url  IsActive  \n",
              "0     /incidents/2024/6/26/basin-fire/         1  \n",
              "1  /incidents/2024/6/24/sheering-fire/         1  "
            ],
            "text/html": [
              "\n",
              "  <div id=\"df-535ae19b-f818-4550-ba6d-b2d4b777e773\" class=\"colab-df-container\">\n",
              "    <div>\n",
              "<style scoped>\n",
              "    .dataframe tbody tr th:only-of-type {\n",
              "        vertical-align: middle;\n",
              "    }\n",
              "\n",
              "    .dataframe tbody tr th {\n",
              "        vertical-align: top;\n",
              "    }\n",
              "\n",
              "    .dataframe thead th {\n",
              "        text-align: right;\n",
              "    }\n",
              "</style>\n",
              "<table border=\"1\" class=\"dataframe\">\n",
              "  <thead>\n",
              "    <tr style=\"text-align: right;\">\n",
              "      <th></th>\n",
              "      <th>UniqueId</th>\n",
              "      <th>Name</th>\n",
              "      <th>Updated</th>\n",
              "      <th>Started</th>\n",
              "      <th>AdminUnit</th>\n",
              "      <th>County</th>\n",
              "      <th>Location</th>\n",
              "      <th>AcresBurned</th>\n",
              "      <th>PercentContained</th>\n",
              "      <th>Longitude</th>\n",
              "      <th>Latitude</th>\n",
              "      <th>Url</th>\n",
              "      <th>IsActive</th>\n",
              "    </tr>\n",
              "  </thead>\n",
              "  <tbody>\n",
              "    <tr>\n",
              "      <th>0</th>\n",
              "      <td>9226f0ee-ae1d-4ca7-8a21-9390b6215c85</td>\n",
              "      <td>Basin Fire</td>\n",
              "      <td>2024-07-11</td>\n",
              "      <td>2024-06-26</td>\n",
              "      <td>Sierra National Forest Service</td>\n",
              "      <td>Fresno</td>\n",
              "      <td>North of Green Cabin Flat Campground</td>\n",
              "      <td>14023.0</td>\n",
              "      <td>95.0</td>\n",
              "      <td>-119.110336</td>\n",
              "      <td>36.868064</td>\n",
              "      <td>/incidents/2024/6/26/basin-fire/</td>\n",
              "      <td>1</td>\n",
              "    </tr>\n",
              "    <tr>\n",
              "      <th>1</th>\n",
              "      <td>4d1eb95c-6e27-4af4-9133-d053b8310cbd</td>\n",
              "      <td>Sheering Fire</td>\n",
              "      <td>2024-07-10</td>\n",
              "      <td>2024-06-24</td>\n",
              "      <td>Stanislaus National Forest</td>\n",
              "      <td>Tuolumne</td>\n",
              "      <td>East of Bourland Creek &amp; North of Lost Creek</td>\n",
              "      <td>528.0</td>\n",
              "      <td>89.0</td>\n",
              "      <td>-119.985167</td>\n",
              "      <td>38.163167</td>\n",
              "      <td>/incidents/2024/6/24/sheering-fire/</td>\n",
              "      <td>1</td>\n",
              "    </tr>\n",
              "  </tbody>\n",
              "</table>\n",
              "</div>\n",
              "    <div class=\"colab-df-buttons\">\n",
              "\n",
              "  <div class=\"colab-df-container\">\n",
              "    <button class=\"colab-df-convert\" onclick=\"convertToInteractive('df-535ae19b-f818-4550-ba6d-b2d4b777e773')\"\n",
              "            title=\"Convert this dataframe to an interactive table.\"\n",
              "            style=\"display:none;\">\n",
              "\n",
              "  <svg xmlns=\"http://www.w3.org/2000/svg\" height=\"24px\" viewBox=\"0 -960 960 960\">\n",
              "    <path d=\"M120-120v-720h720v720H120Zm60-500h600v-160H180v160Zm220 220h160v-160H400v160Zm0 220h160v-160H400v160ZM180-400h160v-160H180v160Zm440 0h160v-160H620v160ZM180-180h160v-160H180v160Zm440 0h160v-160H620v160Z\"/>\n",
              "  </svg>\n",
              "    </button>\n",
              "\n",
              "  <style>\n",
              "    .colab-df-container {\n",
              "      display:flex;\n",
              "      gap: 12px;\n",
              "    }\n",
              "\n",
              "    .colab-df-convert {\n",
              "      background-color: #E8F0FE;\n",
              "      border: none;\n",
              "      border-radius: 50%;\n",
              "      cursor: pointer;\n",
              "      display: none;\n",
              "      fill: #1967D2;\n",
              "      height: 32px;\n",
              "      padding: 0 0 0 0;\n",
              "      width: 32px;\n",
              "    }\n",
              "\n",
              "    .colab-df-convert:hover {\n",
              "      background-color: #E2EBFA;\n",
              "      box-shadow: 0px 1px 2px rgba(60, 64, 67, 0.3), 0px 1px 3px 1px rgba(60, 64, 67, 0.15);\n",
              "      fill: #174EA6;\n",
              "    }\n",
              "\n",
              "    .colab-df-buttons div {\n",
              "      margin-bottom: 4px;\n",
              "    }\n",
              "\n",
              "    [theme=dark] .colab-df-convert {\n",
              "      background-color: #3B4455;\n",
              "      fill: #D2E3FC;\n",
              "    }\n",
              "\n",
              "    [theme=dark] .colab-df-convert:hover {\n",
              "      background-color: #434B5C;\n",
              "      box-shadow: 0px 1px 3px 1px rgba(0, 0, 0, 0.15);\n",
              "      filter: drop-shadow(0px 1px 2px rgba(0, 0, 0, 0.3));\n",
              "      fill: #FFFFFF;\n",
              "    }\n",
              "  </style>\n",
              "\n",
              "    <script>\n",
              "      const buttonEl =\n",
              "        document.querySelector('#df-535ae19b-f818-4550-ba6d-b2d4b777e773 button.colab-df-convert');\n",
              "      buttonEl.style.display =\n",
              "        google.colab.kernel.accessAllowed ? 'block' : 'none';\n",
              "\n",
              "      async function convertToInteractive(key) {\n",
              "        const element = document.querySelector('#df-535ae19b-f818-4550-ba6d-b2d4b777e773');\n",
              "        const dataTable =\n",
              "          await google.colab.kernel.invokeFunction('convertToInteractive',\n",
              "                                                    [key], {});\n",
              "        if (!dataTable) return;\n",
              "\n",
              "        const docLinkHtml = 'Like what you see? Visit the ' +\n",
              "          '<a target=\"_blank\" href=https://colab.research.google.com/notebooks/data_table.ipynb>data table notebook</a>'\n",
              "          + ' to learn more about interactive tables.';\n",
              "        element.innerHTML = '';\n",
              "        dataTable['output_type'] = 'display_data';\n",
              "        await google.colab.output.renderOutput(dataTable, element);\n",
              "        const docLink = document.createElement('div');\n",
              "        docLink.innerHTML = docLinkHtml;\n",
              "        element.appendChild(docLink);\n",
              "      }\n",
              "    </script>\n",
              "  </div>\n",
              "\n",
              "\n",
              "<div id=\"df-fef4b7d3-1dec-41d2-8730-571a4b3bb2f4\">\n",
              "  <button class=\"colab-df-quickchart\" onclick=\"quickchart('df-fef4b7d3-1dec-41d2-8730-571a4b3bb2f4')\"\n",
              "            title=\"Suggest charts\"\n",
              "            style=\"display:none;\">\n",
              "\n",
              "<svg xmlns=\"http://www.w3.org/2000/svg\" height=\"24px\"viewBox=\"0 0 24 24\"\n",
              "     width=\"24px\">\n",
              "    <g>\n",
              "        <path d=\"M19 3H5c-1.1 0-2 .9-2 2v14c0 1.1.9 2 2 2h14c1.1 0 2-.9 2-2V5c0-1.1-.9-2-2-2zM9 17H7v-7h2v7zm4 0h-2V7h2v10zm4 0h-2v-4h2v4z\"/>\n",
              "    </g>\n",
              "</svg>\n",
              "  </button>\n",
              "\n",
              "<style>\n",
              "  .colab-df-quickchart {\n",
              "      --bg-color: #E8F0FE;\n",
              "      --fill-color: #1967D2;\n",
              "      --hover-bg-color: #E2EBFA;\n",
              "      --hover-fill-color: #174EA6;\n",
              "      --disabled-fill-color: #AAA;\n",
              "      --disabled-bg-color: #DDD;\n",
              "  }\n",
              "\n",
              "  [theme=dark] .colab-df-quickchart {\n",
              "      --bg-color: #3B4455;\n",
              "      --fill-color: #D2E3FC;\n",
              "      --hover-bg-color: #434B5C;\n",
              "      --hover-fill-color: #FFFFFF;\n",
              "      --disabled-bg-color: #3B4455;\n",
              "      --disabled-fill-color: #666;\n",
              "  }\n",
              "\n",
              "  .colab-df-quickchart {\n",
              "    background-color: var(--bg-color);\n",
              "    border: none;\n",
              "    border-radius: 50%;\n",
              "    cursor: pointer;\n",
              "    display: none;\n",
              "    fill: var(--fill-color);\n",
              "    height: 32px;\n",
              "    padding: 0;\n",
              "    width: 32px;\n",
              "  }\n",
              "\n",
              "  .colab-df-quickchart:hover {\n",
              "    background-color: var(--hover-bg-color);\n",
              "    box-shadow: 0 1px 2px rgba(60, 64, 67, 0.3), 0 1px 3px 1px rgba(60, 64, 67, 0.15);\n",
              "    fill: var(--button-hover-fill-color);\n",
              "  }\n",
              "\n",
              "  .colab-df-quickchart-complete:disabled,\n",
              "  .colab-df-quickchart-complete:disabled:hover {\n",
              "    background-color: var(--disabled-bg-color);\n",
              "    fill: var(--disabled-fill-color);\n",
              "    box-shadow: none;\n",
              "  }\n",
              "\n",
              "  .colab-df-spinner {\n",
              "    border: 2px solid var(--fill-color);\n",
              "    border-color: transparent;\n",
              "    border-bottom-color: var(--fill-color);\n",
              "    animation:\n",
              "      spin 1s steps(1) infinite;\n",
              "  }\n",
              "\n",
              "  @keyframes spin {\n",
              "    0% {\n",
              "      border-color: transparent;\n",
              "      border-bottom-color: var(--fill-color);\n",
              "      border-left-color: var(--fill-color);\n",
              "    }\n",
              "    20% {\n",
              "      border-color: transparent;\n",
              "      border-left-color: var(--fill-color);\n",
              "      border-top-color: var(--fill-color);\n",
              "    }\n",
              "    30% {\n",
              "      border-color: transparent;\n",
              "      border-left-color: var(--fill-color);\n",
              "      border-top-color: var(--fill-color);\n",
              "      border-right-color: var(--fill-color);\n",
              "    }\n",
              "    40% {\n",
              "      border-color: transparent;\n",
              "      border-right-color: var(--fill-color);\n",
              "      border-top-color: var(--fill-color);\n",
              "    }\n",
              "    60% {\n",
              "      border-color: transparent;\n",
              "      border-right-color: var(--fill-color);\n",
              "    }\n",
              "    80% {\n",
              "      border-color: transparent;\n",
              "      border-right-color: var(--fill-color);\n",
              "      border-bottom-color: var(--fill-color);\n",
              "    }\n",
              "    90% {\n",
              "      border-color: transparent;\n",
              "      border-bottom-color: var(--fill-color);\n",
              "    }\n",
              "  }\n",
              "</style>\n",
              "\n",
              "  <script>\n",
              "    async function quickchart(key) {\n",
              "      const quickchartButtonEl =\n",
              "        document.querySelector('#' + key + ' button');\n",
              "      quickchartButtonEl.disabled = true;  // To prevent multiple clicks.\n",
              "      quickchartButtonEl.classList.add('colab-df-spinner');\n",
              "      try {\n",
              "        const charts = await google.colab.kernel.invokeFunction(\n",
              "            'suggestCharts', [key], {});\n",
              "      } catch (error) {\n",
              "        console.error('Error during call to suggestCharts:', error);\n",
              "      }\n",
              "      quickchartButtonEl.classList.remove('colab-df-spinner');\n",
              "      quickchartButtonEl.classList.add('colab-df-quickchart-complete');\n",
              "    }\n",
              "    (() => {\n",
              "      let quickchartButtonEl =\n",
              "        document.querySelector('#df-fef4b7d3-1dec-41d2-8730-571a4b3bb2f4 button');\n",
              "      quickchartButtonEl.style.display =\n",
              "        google.colab.kernel.accessAllowed ? 'block' : 'none';\n",
              "    })();\n",
              "  </script>\n",
              "</div>\n",
              "\n",
              "    </div>\n",
              "  </div>\n"
            ],
            "application/vnd.google.colaboratory.intrinsic+json": {
              "type": "dataframe",
              "variable_name": "df",
              "summary": "{\n  \"name\": \"df\",\n  \"rows\": 23,\n  \"fields\": [\n    {\n      \"column\": \"UniqueId\",\n      \"properties\": {\n        \"dtype\": \"string\",\n        \"num_unique_values\": 23,\n        \"samples\": [\n          \"bddf75c9-e5b6-4b7c-af80-a9f1dd57963b\",\n          \"704f4c46-c67f-4cd6-ad76-1bb893764f0e\",\n          \"9226f0ee-ae1d-4ca7-8a21-9390b6215c85\"\n        ],\n        \"semantic_type\": \"\",\n        \"description\": \"\"\n      }\n    },\n    {\n      \"column\": \"Name\",\n      \"properties\": {\n        \"dtype\": \"string\",\n        \"num_unique_values\": 23,\n        \"samples\": [\n          \"Trout Fire\",\n          \"Cow Fire\",\n          \"Basin Fire\"\n        ],\n        \"semantic_type\": \"\",\n        \"description\": \"\"\n      }\n    },\n    {\n      \"column\": \"Updated\",\n      \"properties\": {\n        \"dtype\": \"object\",\n        \"num_unique_values\": 4,\n        \"samples\": [\n          \"2024-07-10\",\n          \"2024-07-13\",\n          \"2024-07-11\"\n        ],\n        \"semantic_type\": \"\",\n        \"description\": \"\"\n      }\n    },\n    {\n      \"column\": \"Started\",\n      \"properties\": {\n        \"dtype\": \"object\",\n        \"num_unique_values\": 11,\n        \"samples\": [\n          \"2024-07-08\",\n          \"2024-06-26\",\n          \"2024-07-13\"\n        ],\n        \"semantic_type\": \"\",\n        \"description\": \"\"\n      }\n    },\n    {\n      \"column\": \"AdminUnit\",\n      \"properties\": {\n        \"dtype\": \"string\",\n        \"num_unique_values\": 19,\n        \"samples\": [\n          \"Sierra National Forest Service\",\n          \"Bureau of Land Management - Northern California District\",\n          \"CAL FIRE/Riverside County Fire Department\"\n        ],\n        \"semantic_type\": \"\",\n        \"description\": \"\"\n      }\n    },\n    {\n      \"column\": \"County\",\n      \"properties\": {\n        \"dtype\": \"string\",\n        \"num_unique_values\": 16,\n        \"samples\": [\n          \"Fresno\",\n          \"Tuolumne\",\n          \"Modoc\"\n        ],\n        \"semantic_type\": \"\",\n        \"description\": \"\"\n      }\n    },\n    {\n      \"column\": \"Location\",\n      \"properties\": {\n        \"dtype\": \"string\",\n        \"num_unique_values\": 23,\n        \"samples\": [\n          \"Near Sherman Pass Road\",\n          \"Unknown / TBD\",\n          \"North of Green Cabin Flat Campground\"\n        ],\n        \"semantic_type\": \"\",\n        \"description\": \"\"\n      }\n    },\n    {\n      \"column\": \"AcresBurned\",\n      \"properties\": {\n        \"dtype\": \"number\",\n        \"std\": 9147.328610829825,\n        \"min\": 10.0,\n        \"max\": 37872.0,\n        \"num_unique_values\": 23,\n        \"samples\": [\n          494.0,\n          509.0,\n          14023.0\n        ],\n        \"semantic_type\": \"\",\n        \"description\": \"\"\n      }\n    },\n    {\n      \"column\": \"PercentContained\",\n      \"properties\": {\n        \"dtype\": \"number\",\n        \"std\": 38.74156799755388,\n        \"min\": 0.0,\n        \"max\": 100.0,\n        \"num_unique_values\": 14,\n        \"samples\": [\n          100.0,\n          50.0,\n          95.0\n        ],\n        \"semantic_type\": \"\",\n        \"description\": \"\"\n      }\n    },\n    {\n      \"column\": \"Longitude\",\n      \"properties\": {\n        \"dtype\": \"number\",\n        \"std\": 1.9867208172605315,\n        \"min\": -123.7729,\n        \"max\": -117.021732828451,\n        \"num_unique_values\": 23,\n        \"samples\": [\n          -118.311422,\n          -118.801528,\n          -119.110336\n        ],\n        \"semantic_type\": \"\",\n        \"description\": \"\"\n      }\n    },\n    {\n      \"column\": \"Latitude\",\n      \"properties\": {\n        \"dtype\": \"number\",\n        \"std\": 2.7355831881371127,\n        \"min\": 33.4855572742634,\n        \"max\": 41.884429,\n        \"num_unique_values\": 23,\n        \"samples\": [\n          35.986772,\n          36.026333,\n          36.868064\n        ],\n        \"semantic_type\": \"\",\n        \"description\": \"\"\n      }\n    },\n    {\n      \"column\": \"Url\",\n      \"properties\": {\n        \"dtype\": \"string\",\n        \"num_unique_values\": 23,\n        \"samples\": [\n          \"/incidents/2024/7/13/trout-fire/\",\n          \"/incidents/2024/7/9/cow-fire/\",\n          \"/incidents/2024/6/26/basin-fire/\"\n        ],\n        \"semantic_type\": \"\",\n        \"description\": \"\"\n      }\n    },\n    {\n      \"column\": \"IsActive\",\n      \"properties\": {\n        \"dtype\": \"number\",\n        \"std\": 0,\n        \"min\": 1,\n        \"max\": 1,\n        \"num_unique_values\": 1,\n        \"samples\": [\n          1\n        ],\n        \"semantic_type\": \"\",\n        \"description\": \"\"\n      }\n    }\n  ]\n}"
            }
          },
          "metadata": {},
          "execution_count": 109
        }
      ]
    },
    {
      "cell_type": "code",
      "source": [
        "df.isna().sum()"
      ],
      "metadata": {
        "colab": {
          "base_uri": "https://localhost:8080/"
        },
        "id": "-m9W8_TKQq0N",
        "outputId": "046ff981-15b7-4c5b-c8cd-0a93e82780ef"
      },
      "execution_count": null,
      "outputs": [
        {
          "output_type": "execute_result",
          "data": {
            "text/plain": [
              "UniqueId            0\n",
              "Name                0\n",
              "Updated             0\n",
              "Started             0\n",
              "AdminUnit           0\n",
              "County              0\n",
              "Location            0\n",
              "AcresBurned         0\n",
              "PercentContained    0\n",
              "Longitude           0\n",
              "Latitude            0\n",
              "Url                 0\n",
              "IsActive            0\n",
              "dtype: int64"
            ]
          },
          "metadata": {},
          "execution_count": 107
        }
      ]
    },
    {
      "cell_type": "code",
      "source": [
        "df.duplicated().sum()"
      ],
      "metadata": {
        "colab": {
          "base_uri": "https://localhost:8080/"
        },
        "id": "OturkGgNQqwt",
        "outputId": "598a56ff-db33-40d9-f92d-936cf1b02986"
      },
      "execution_count": null,
      "outputs": [
        {
          "output_type": "execute_result",
          "data": {
            "text/plain": [
              "0"
            ]
          },
          "metadata": {},
          "execution_count": 108
        }
      ]
    },
    {
      "cell_type": "code",
      "source": [
        "df.County.value_counts()"
      ],
      "metadata": {
        "colab": {
          "base_uri": "https://localhost:8080/"
        },
        "id": "Ivzv8YnfQqfH",
        "outputId": "013a6afe-4b26-4b26-a4ec-1e5c548acd1a"
      },
      "execution_count": null,
      "outputs": [
        {
          "output_type": "execute_result",
          "data": {
            "text/plain": [
              "County\n",
              "Tulare             3\n",
              "Siskiyou           2\n",
              "Mendocino          2\n",
              "San Luis Obispo    2\n",
              "Kern               2\n",
              "Lassen             2\n",
              "Fresno             1\n",
              "Tuolumne           1\n",
              "Santa Barbara      1\n",
              "San Bernardino     1\n",
              "Modoc              1\n",
              "Placer             1\n",
              "Humboldt           1\n",
              "Riverside          1\n",
              "Los Angeles        1\n",
              "Inyo               1\n",
              "Name: count, dtype: int64"
            ]
          },
          "metadata": {},
          "execution_count": 111
        }
      ]
    },
    {
      "cell_type": "code",
      "source": [
        "import openpyxl"
      ],
      "metadata": {
        "id": "WpC0xV99nLPf"
      },
      "execution_count": null,
      "outputs": []
    },
    {
      "cell_type": "code",
      "source": [
        "from openpyxl import load_workbook, Workbook"
      ],
      "metadata": {
        "id": "AR3odV24nadP"
      },
      "execution_count": null,
      "outputs": []
    }
  ]
}